{
  "nbformat": 4,
  "nbformat_minor": 0,
  "metadata": {
    "colab": {
      "name": "MLP.ipynb",
      "provenance": [],
      "collapsed_sections": [],
      "include_colab_link": true
    },
    "kernelspec": {
      "name": "python3",
      "display_name": "Python 3"
    }
  },
  "cells": [
    {
      "cell_type": "markdown",
      "metadata": {
        "id": "view-in-github",
        "colab_type": "text"
      },
      "source": [
        "<a href=\"https://colab.research.google.com/github/tmoura/machinelearning/blob/master/MLP.ipynb\" target=\"_parent\"><img src=\"https://colab.research.google.com/assets/colab-badge.svg\" alt=\"Open In Colab\"/></a>"
      ]
    },
    {
      "cell_type": "code",
      "metadata": {
        "id": "QPWYx2U4cVZM"
      },
      "source": [
        "from sklearn.model_selection import train_test_split\n",
        "from sklearn import metrics\n",
        "import pandas as pd\n",
        "from sklearn.neural_network import MLPClassifier\n",
        "\n",
        "url = \"https://raw.githubusercontent.com/tmoura/machinelearning/master/iris.data\"\n",
        "\n",
        "# Carregar base de dados\n",
        "dataset = pd.read_csv(url, header=None)\n",
        "\n",
        "columns = len(dataset.columns)\n",
        "\n",
        "X = dataset.loc[:,1:columns-1]\n",
        "y = dataset.loc[:,0] # extrai a primeira coluna, que é o label\n",
        "\n",
        "dataset.head(5) # Mostra os 5 primeiros dados da tabela"
      ],
      "execution_count": null,
      "outputs": []
    },
    {
      "cell_type": "code",
      "metadata": {
        "id": "8SDYzZfwce8e"
      },
      "source": [
        "X_train, X_test, y_train, y_test = train_test_split(X, y, test_size=0.2, stratify=y) # 80% treino e 20% teste\n",
        "\n",
        "model = MLPClassifier(hidden_layer_sizes=(4,3), activation='logistic',max_iter=5000)\n",
        "model = model.fit(X_train, y_train)\n",
        "\n",
        "print(model)"
      ],
      "execution_count": null,
      "outputs": []
    },
    {
      "cell_type": "code",
      "metadata": {
        "id": "ZQz-tGWVc82G",
        "outputId": "6b8c7bc2-d9be-4a1f-c738-c4585d4e0410",
        "colab": {
          "base_uri": "https://localhost:8080/"
        }
      },
      "source": [
        "result = model.predict(X_test)\n",
        "acc = metrics.accuracy_score(result, y_test)\n",
        "show = round(acc * 100)\n",
        "print(\"{}%\".format(show))\n",
        "\n",
        "print(list(result))\n",
        "print(list(y_test))"
      ],
      "execution_count": 155,
      "outputs": [
        {
          "output_type": "stream",
          "text": [
            "67.0%\n",
            "[2, 1, 1, 1, 2, 1, 1, 2, 2, 2, 2, 1, 1, 2, 2, 1, 2, 2, 2, 2, 2, 1, 2, 2, 1, 2, 2, 2, 2, 2]\n",
            "[2, 1, 1, 1, 3, 1, 1, 2, 3, 2, 3, 1, 1, 3, 2, 1, 2, 3, 3, 3, 2, 1, 2, 2, 1, 3, 2, 3, 2, 3]\n"
          ],
          "name": "stdout"
        }
      ]
    },
    {
      "cell_type": "code",
      "metadata": {
        "id": "TxVIu2m0_X59"
      },
      "source": [
        "import pandas as pd\n",
        "import seaborn as sns # API de visualização\n",
        "\n",
        "url = \"https://raw.githubusercontent.com/tmoura/machinelearning/master/iris.data\"\n",
        "\n",
        "# Carregar base de dados\n",
        "dataset = pd.read_csv(url, header=None)\n",
        "\n",
        "sns.pairplot(data=dataset, vars=(1,2,3,4), hue=0 )"
      ],
      "execution_count": null,
      "outputs": []
    }
  ]
}