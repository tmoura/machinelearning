{
  "nbformat": 4,
  "nbformat_minor": 0,
  "metadata": {
    "colab": {
      "provenance": [],
      "authorship_tag": "ABX9TyN7PoPu+KoMI7glIEBG1MZT",
      "include_colab_link": true
    },
    "kernelspec": {
      "name": "python3",
      "display_name": "Python 3"
    },
    "language_info": {
      "name": "python"
    }
  },
  "cells": [
    {
      "cell_type": "markdown",
      "metadata": {
        "id": "view-in-github",
        "colab_type": "text"
      },
      "source": [
        "<a href=\"https://colab.research.google.com/github/tmoura/machinelearning/blob/master/Exemplo_Regress%C3%A3o.ipynb\" target=\"_parent\"><img src=\"https://colab.research.google.com/assets/colab-badge.svg\" alt=\"Open In Colab\"/></a>"
      ]
    },
    {
      "cell_type": "code",
      "source": [
        "pip install ucimlrepo"
      ],
      "metadata": {
        "id": "Z2VSoKbk1xv_"
      },
      "execution_count": null,
      "outputs": []
    },
    {
      "cell_type": "markdown",
      "source": [
        "### Carregamento do *dataset*"
      ],
      "metadata": {
        "id": "tRRlFGdT5pGT"
      }
    },
    {
      "cell_type": "code",
      "execution_count": null,
      "metadata": {
        "id": "_xaCMOc11m5i"
      },
      "outputs": [],
      "source": [
        "from ucimlrepo import fetch_ucirepo\n",
        "\n",
        "# fetch dataset\n",
        "real_estate_valuation = fetch_ucirepo(id=477)\n",
        "\n",
        "# data (as pandas dataframes)\n",
        "X = real_estate_valuation.data.features\n",
        "y = real_estate_valuation.data.targets\n",
        "\n",
        "# metadata\n",
        "print(real_estate_valuation.metadata)\n",
        "\n",
        "# variable information\n",
        "print(real_estate_valuation.variables)"
      ]
    },
    {
      "cell_type": "markdown",
      "source": [
        "### Treinamento"
      ],
      "metadata": {
        "id": "uiSVDj3X5k9O"
      }
    },
    {
      "cell_type": "code",
      "source": [
        "import seaborn as sns\n",
        "from sklearn import datasets, linear_model\n",
        "from sklearn.metrics import mean_squared_error, r2_score, mean_absolute_percentage_error ,mean_absolute_error\n",
        "\n",
        "\n",
        "from sklearn.model_selection import train_test_split\n",
        "import numpy as np\n",
        "\n",
        "res = train_test_split(X, y, train_size=0.8, test_size=0.2, random_state=None)\n",
        "train_data, test_data, train_labels, test_labels = res\n",
        "\n",
        "###############\n",
        "regr = linear_model.LinearRegression()\n",
        "regr.fit(train_data, train_labels)\n",
        "\n",
        "predictions = regr.predict(test_data)"
      ],
      "metadata": {
        "id": "pC6BIkXg15OF"
      },
      "execution_count": null,
      "outputs": []
    },
    {
      "cell_type": "markdown",
      "source": [
        "### Resultados"
      ],
      "metadata": {
        "id": "vgX6V1_X5eAK"
      }
    },
    {
      "cell_type": "code",
      "source": [
        "mse = mean_squared_error(test_labels, predictions)\n",
        "rmse = np.sqrt(mse)\n",
        "\n",
        "mae = mean_absolute_error(test_labels, predictions)\n",
        "mape = mean_absolute_percentage_error(test_labels, predictions)\n",
        "\n",
        "print(f\"Mean Squared Error (MSE): {mse}\")\n",
        "print(f\"Root Mean Squared Error (RMSE): {rmse}\")\n",
        "print(f\"Mean Absolute Error (MAE): {mae}\")\n",
        "print(f\"Mean Absolute Percentage Error (MAPE): {mape}\")"
      ],
      "metadata": {
        "id": "Bj4e9FIk5aSF"
      },
      "execution_count": null,
      "outputs": []
    }
  ]
}