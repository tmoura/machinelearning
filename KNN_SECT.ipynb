{
  "nbformat": 4,
  "nbformat_minor": 0,
  "metadata": {
    "colab": {
      "name": "KNN-SECT.ipynb",
      "provenance": [],
      "authorship_tag": "ABX9TyOkwmKZVZ0MDkGC2KO+wIac",
      "include_colab_link": true
    },
    "kernelspec": {
      "name": "python3",
      "display_name": "Python 3"
    },
    "language_info": {
      "name": "python"
    }
  },
  "cells": [
    {
      "cell_type": "markdown",
      "metadata": {
        "id": "view-in-github",
        "colab_type": "text"
      },
      "source": [
        "<a href=\"https://colab.research.google.com/github/tmoura/machinelearning/blob/master/KNN_SECT.ipynb\" target=\"_parent\"><img src=\"https://colab.research.google.com/assets/colab-badge.svg\" alt=\"Open In Colab\"/></a>"
      ]
    },
    {
      "cell_type": "markdown",
      "metadata": {
        "id": "XprUlB3HJ3D1"
      },
      "source": [
        "### **Carregamento da Base de Dados**"
      ]
    },
    {
      "cell_type": "code",
      "metadata": {
        "id": "5CkMIgnbJVyX"
      },
      "source": [
        "from sklearn.model_selection import train_test_split\n",
        "from sklearn import metrics\n",
        "import pandas as pd\n",
        "from sklearn.neighbors import KNeighborsClassifier\n",
        "import math\n",
        "import statistics\n",
        "import numpy\n",
        "from collections import Counter\n",
        "\n",
        "url = \"https://raw.githubusercontent.com/tmoura/machinelearning/master/iris.data\"\n",
        "\n",
        "# Carregar base de dados\n",
        "dataset = pd.read_csv(url, header=None)\n",
        "\n",
        "columns = len(dataset.columns)\n",
        "\n",
        "y = dataset[0] # extrai a primeira coluna, que é o label\n",
        "X = dataset.loc[:,1:columns-1]"
      ],
      "execution_count": null,
      "outputs": []
    },
    {
      "cell_type": "markdown",
      "metadata": {
        "id": "o6YFRR5SJ_xX"
      },
      "source": [
        "### **Treinamento do Modelo**"
      ]
    },
    {
      "cell_type": "code",
      "metadata": {
        "id": "aPhmcPZYJh7j"
      },
      "source": [
        "X_train, X_test, y_train, y_test = train_test_split(X, y, test_size=0.2, stratify=y) # 80% treino e 20% teste\n",
        "\n",
        "k = 5   # Quantidade de vizinhos mais próximos\n",
        "\n",
        "model = KNeighborsClassifier(n_neighbors=k, metric='euclidean', algorithm='brute')\n",
        "model = model.fit(X_train, y_train)"
      ],
      "execution_count": null,
      "outputs": []
    },
    {
      "cell_type": "markdown",
      "metadata": {
        "id": "QiBPjplaKDlD"
      },
      "source": [
        "### **Verificação dos Resultados**"
      ]
    },
    {
      "cell_type": "code",
      "metadata": {
        "id": "m-zUTQ5hJkpU"
      },
      "source": [
        "result = model.predict(X_test)\n",
        "acc = metrics.accuracy_score(result, y_test)\n",
        "show = round(acc * 100)\n",
        "print(\"{}%\".format(show))\n",
        "\n",
        "print(list(result))\n",
        "print(list(y_test))"
      ],
      "execution_count": null,
      "outputs": []
    }
  ]
}