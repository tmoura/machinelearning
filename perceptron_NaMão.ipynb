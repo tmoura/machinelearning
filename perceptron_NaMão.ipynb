{
  "nbformat": 4,
  "nbformat_minor": 0,
  "metadata": {
    "colab": {
      "name": "perceptron-NaMão.ipynb",
      "provenance": [],
      "include_colab_link": true
    },
    "kernelspec": {
      "name": "python3",
      "display_name": "Python 3"
    }
  },
  "cells": [
    {
      "cell_type": "markdown",
      "metadata": {
        "id": "view-in-github",
        "colab_type": "text"
      },
      "source": [
        "<a href=\"https://colab.research.google.com/github/tmoura/machinelearning/blob/master/perceptron_NaMa%CC%83o.ipynb\" target=\"_parent\"><img src=\"https://colab.research.google.com/assets/colab-badge.svg\" alt=\"Open In Colab\"/></a>"
      ]
    },
    {
      "cell_type": "code",
      "metadata": {
        "id": "AduYJt5SlAtT"
      },
      "source": [
        "#############\n",
        "#\n",
        "# Implementação do Perceptron para reconhecimento dos padrões H e T\n",
        "#\n",
        "#############\n",
        "from sklearn.model_selection import train_test_split\n",
        "from sklearn import metrics\n",
        "import pandas as pd\n",
        "import numpy as np\n",
        "\n",
        "url = \"https://raw.githubusercontent.com/tmoura/machinelearning/master/irisPerceptron.data\"\n",
        "\n",
        "# IRIS\n",
        "col_names = ['label', 'x1', 'x2','x3','x4']\n",
        "feature_cols = ['x1', 'x3']\n",
        "\n",
        "# Carregar base de dados\n",
        "dataset = pd.read_csv(url, header=None, names=col_names)\n",
        "\n",
        "dataset.pop('x2') # Remove coluna x2\n",
        "dataset.pop('x4') # Remove coluna x4\n",
        "\n",
        "X = dataset[feature_cols] # Atributos (Features)\n",
        "y = dataset.label # Saída"
      ],
      "execution_count": 59,
      "outputs": []
    },
    {
      "cell_type": "code",
      "metadata": {
        "id": "8GzNbCmOdEf9"
      },
      "source": [
        "X_train, X_test, y_train, y_test = train_test_split(X, y, test_size=0.2, random_state=None, stratify=y) # 80% treino e 20% teste\n",
        "\n",
        "### Tranforma os dados em listas\n",
        "\n",
        "train_x = X_train.values.tolist()\n",
        "train_y = y_train.values.tolist()\n",
        "\n",
        "test_x = X_test.values.tolist()\n",
        "test_y = y_test.values.tolist()"
      ],
      "execution_count": 60,
      "outputs": []
    },
    {
      "cell_type": "code",
      "metadata": {
        "id": "Odi04B0CfO69"
      },
      "source": [
        "######\n",
        "#\n",
        "# Classe Perceptron\n",
        "#\n",
        "######\n",
        "class Perceptron:\n",
        "\n",
        "  def __init__(self):\n",
        "\n",
        "    self.teta = 0\n",
        "    self.w = [0,0]\n",
        "    self.n = 0.05\n",
        "\n",
        "  def train_perceptron(self,train_x,train_y):\n",
        "\n",
        "    for i in range(100):\n",
        "      for j in range(len(train_x)):\n",
        "\n",
        "        u = sum(np.array(self.w) * np.array(train_x[j])) + self.teta\n",
        "\n",
        "        if(u >= 0):\n",
        "          y = 1\n",
        "        else:\n",
        "          y = -1\n",
        "\n",
        "        erro = train_y[j] - y\n",
        "\n",
        "        self.w = list(np.array(self.w) + (self.n * np.array(train_x[j]) * erro))\n",
        "\n",
        "        self.teta = self.teta + (self.n * 1 * erro)\n",
        "\n",
        "  def predict_perceptron(self,test_x):\n",
        "\n",
        "    results = []\n",
        "\n",
        "    for i in range(len(test_x)):\n",
        "        \n",
        "        u = sum(np.array(self.w) * np.array(test_x[i])) + self.teta\n",
        "        \n",
        "        if (u >= 0):\n",
        "            results.append(1)\n",
        "        else:\n",
        "            results.append(-1);\n",
        "\n",
        "    return results"
      ],
      "execution_count": 62,
      "outputs": []
    },
    {
      "cell_type": "code",
      "metadata": {
        "id": "CT3eMaO-fSwB"
      },
      "source": [
        "######\n",
        "#\n",
        "# Cálculo da Acurácia\n",
        "#\n",
        "######\n",
        "model = Perceptron()\n",
        "model.train_perceptron(train_x,train_y)\n",
        "\n",
        "result = model.predict_perceptron(test_x)\n",
        "\n",
        "acc = metrics.accuracy_score(result, test_y)\n",
        "show = round(acc * 100)\n",
        "print(\"{}%\".format(show))\n"
      ],
      "execution_count": null,
      "outputs": []
    },
    {
      "cell_type": "markdown",
      "metadata": {
        "id": "30odcYEtGWQk"
      },
      "source": [
        "## Plotagem do Cojunto de Treinamento"
      ]
    },
    {
      "cell_type": "code",
      "metadata": {
        "id": "0DJpAguXGc3z"
      },
      "source": [
        "import matplotlib.pyplot as plt\n",
        "import pandas as pd\n",
        "\n",
        "url = \"https://raw.githubusercontent.com/tmoura/machinelearning/master/irisPerceptron.data\"\n",
        "\n",
        "col_names = ['label', 'x1', 'x2','x3','x4']\n",
        "\n",
        "# Carregar base de dados\n",
        "dataset = pd.read_csv(url, header=None, names=col_names)\n",
        "\n",
        "dataset.pop('x2') # Remove coluna x2\n",
        "dataset.pop('x4') # Remove coluna x2\n",
        "\n",
        "df1 = dataset.loc[dataset['label'] == -1]\n",
        "df2 = dataset.loc[dataset['label'] == 1]\n",
        "\n",
        "plt.figure(figsize=(10,7))\n",
        "plt.plot(df1['x1'],df1['x3'],'o', color='blue', label='Classe -1')\n",
        "plt.plot(df2['x1'],df2['x3'],'o', color='red', label='Classe 1')\n",
        "plt.legend(loc=\"lower right\", fontsize=16)\n",
        "\n",
        "plt.xlabel('Atributo X1',fontsize=16)\n",
        "plt.ylabel('Atributo X3',fontsize=16)"
      ],
      "execution_count": null,
      "outputs": []
    }
  ]
}