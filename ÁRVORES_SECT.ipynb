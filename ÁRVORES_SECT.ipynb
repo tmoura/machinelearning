{
  "nbformat": 4,
  "nbformat_minor": 0,
  "metadata": {
    "colab": {
      "name": "ÁRVORES-SECT.ipynb",
      "provenance": [],
      "authorship_tag": "ABX9TyMUvglA+zp9B9/jd2tvtM+a",
      "include_colab_link": true
    },
    "kernelspec": {
      "name": "python3",
      "display_name": "Python 3"
    },
    "language_info": {
      "name": "python"
    }
  },
  "cells": [
    {
      "cell_type": "markdown",
      "metadata": {
        "id": "view-in-github",
        "colab_type": "text"
      },
      "source": [
        "<a href=\"https://colab.research.google.com/github/tmoura/machinelearning/blob/master/%C3%81RVORES_SECT.ipynb\" target=\"_parent\"><img src=\"https://colab.research.google.com/assets/colab-badge.svg\" alt=\"Open In Colab\"/></a>"
      ]
    },
    {
      "cell_type": "markdown",
      "metadata": {
        "id": "rfqlFMjzLB57"
      },
      "source": [
        "### **Carregamento da Base de Dados**"
      ]
    },
    {
      "cell_type": "code",
      "metadata": {
        "id": "2wk0Fu5WKYCY"
      },
      "source": [
        "from sklearn.model_selection import train_test_split\n",
        "from sklearn import metrics\n",
        "import pandas as pd\n",
        "from sklearn import tree\n",
        "import math\n",
        "import statistics\n",
        "\n",
        "url = \"https://raw.githubusercontent.com/tmoura/machinelearning/master/iris.data\"\n",
        "\n",
        "# Carregar base de dados\n",
        "dataset = pd.read_csv(url, header=None)\n",
        "\n",
        "columns = len(dataset.columns)\n",
        "\n",
        "y = dataset[0] # extrai a primeira coluna, que é o label\n",
        "X = dataset.loc[:,1:columns-1]"
      ],
      "execution_count": 4,
      "outputs": []
    },
    {
      "cell_type": "markdown",
      "metadata": {
        "id": "wATphVhZKxX7"
      },
      "source": [
        "### **Treinamento do Modelo**"
      ]
    },
    {
      "cell_type": "code",
      "metadata": {
        "id": "nCJnrF2OKjC9"
      },
      "source": [
        "X_train, X_test, y_train, y_test = train_test_split(X, y, test_size=0.2, random_state=None, stratify=y) # 80% treino e 20% teste\n",
        "\n",
        "model = tree.DecisionTreeClassifier()\n",
        "model = model.fit(X_train, y_train)"
      ],
      "execution_count": 5,
      "outputs": []
    },
    {
      "cell_type": "markdown",
      "metadata": {
        "id": "J_9pHUcvK0Yk"
      },
      "source": [
        "### **Verificação dos Resultados**"
      ]
    },
    {
      "cell_type": "code",
      "metadata": {
        "id": "Rf0_P2yCKojv"
      },
      "source": [
        "# Predição e Resultados\n",
        "\n",
        "result = model.predict(X_test)\n",
        "acc = metrics.accuracy_score(result, y_test)\n",
        "show = round(acc * 100)\n",
        "print(\"{}%\".format(show))\n",
        "\n",
        "print(list(result))\n",
        "print(list(y_test))"
      ],
      "execution_count": null,
      "outputs": []
    },
    {
      "cell_type": "markdown",
      "metadata": {
        "id": "HAYO9PZiK4yG"
      },
      "source": [
        "### **Plotar a Árvore**"
      ]
    },
    {
      "cell_type": "code",
      "metadata": {
        "id": "CO3-h_xpKqD_"
      },
      "source": [
        "tree.plot_tree(model) "
      ],
      "execution_count": null,
      "outputs": []
    }
  ]
}