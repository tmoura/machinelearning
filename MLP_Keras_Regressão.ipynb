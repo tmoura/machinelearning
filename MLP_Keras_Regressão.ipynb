{
  "nbformat": 4,
  "nbformat_minor": 0,
  "metadata": {
    "colab": {
      "provenance": [],
      "authorship_tag": "ABX9TyPNzmgDbC6WOwZmdkL7yer0",
      "include_colab_link": true
    },
    "kernelspec": {
      "name": "python3",
      "display_name": "Python 3"
    },
    "language_info": {
      "name": "python"
    }
  },
  "cells": [
    {
      "cell_type": "markdown",
      "metadata": {
        "id": "view-in-github",
        "colab_type": "text"
      },
      "source": [
        "<a href=\"https://colab.research.google.com/github/tmoura/machinelearning/blob/master/MLP_Keras_Regress%C3%A3o.ipynb\" target=\"_parent\"><img src=\"https://colab.research.google.com/assets/colab-badge.svg\" alt=\"Open In Colab\"/></a>"
      ]
    },
    {
      "cell_type": "code",
      "execution_count": 8,
      "metadata": {
        "id": "ZMEWUfXjQ2VD"
      },
      "outputs": [],
      "source": [
        "import seaborn as sns\n",
        "from sklearn import datasets, linear_model\n",
        "from sklearn.tree import DecisionTreeRegressor\n",
        "from sklearn.neighbors import KNeighborsRegressor\n",
        "from sklearn.metrics import mean_squared_error, r2_score\n",
        "from sklearn.model_selection import train_test_split\n",
        "\n",
        "data = sns.load_dataset(\"car_crashes\")\n",
        "\n",
        "data = data.drop(['abbrev'],axis=1)\n",
        "\n",
        "y = data['total'].copy()\n",
        "X = data.iloc[:,1:6].copy()\n",
        "\n",
        "from sklearn.preprocessing import MinMaxScaler\n",
        "import numpy as np\n",
        "\n",
        "X['speeding'] = MinMaxScaler().fit_transform(np.array(X['speeding']).reshape(-1,1))\n",
        "X['alcohol'] = MinMaxScaler().fit_transform(np.array(X['alcohol']).reshape(-1,1))\n",
        "X['not_distracted'] = MinMaxScaler().fit_transform(np.array(X['not_distracted']).reshape(-1,1))\n",
        "X['no_previous'] = MinMaxScaler().fit_transform(np.array(X['no_previous']).reshape(-1,1))\n",
        "X['ins_premium'] = MinMaxScaler().fit_transform(np.array(X['ins_premium']).reshape(-1,1))\n",
        "\n",
        "\n",
        "X.shape\n",
        "\n",
        "res = train_test_split(X, y, train_size=0.8, test_size=0.2, random_state=None)\n",
        "train_data, test_data, train_labels, test_labels = res"
      ]
    },
    {
      "cell_type": "code",
      "source": [
        "(5 + 1) / 2"
      ],
      "metadata": {
        "colab": {
          "base_uri": "https://localhost:8080/"
        },
        "id": "S8e7mNzCS-wU",
        "outputId": "8957d82d-4cd3-4ce0-b5c5-32eeb3f9aa61"
      },
      "execution_count": 4,
      "outputs": [
        {
          "output_type": "execute_result",
          "data": {
            "text/plain": [
              "3.0"
            ]
          },
          "metadata": {},
          "execution_count": 4
        }
      ]
    },
    {
      "cell_type": "code",
      "source": [
        "import tensorflow as tf\n",
        "from tensorflow.keras.models import Sequential\n",
        "from tensorflow.keras.layers import Dense\n",
        "\n",
        "regressor = Sequential([\n",
        "    tf.keras.layers.InputLayer(shape = (5,)),\n",
        "    tf.keras.layers.Dense(units = 3, activation = 'relu'),\n",
        "    tf.keras.layers.Dense(units = 3, activation = 'relu'),\n",
        "    tf.keras.layers.Dense(units = 1, activation = 'linear')\n",
        "])"
      ],
      "metadata": {
        "id": "f-Arw84MRCY4"
      },
      "execution_count": 9,
      "outputs": []
    },
    {
      "cell_type": "code",
      "source": [
        "regressor.summary()"
      ],
      "metadata": {
        "id": "rSgMCgGNTRNw"
      },
      "execution_count": null,
      "outputs": []
    },
    {
      "cell_type": "code",
      "source": [
        "regressor.compile(loss = 'mean_squared_error', optimizer = 'adam', metrics = ['mean_squared_error'])"
      ],
      "metadata": {
        "id": "2MM6jyNSTVPg"
      },
      "execution_count": 11,
      "outputs": []
    },
    {
      "cell_type": "code",
      "source": [
        "regressor.fit(train_data, train_labels, epochs = 500)"
      ],
      "metadata": {
        "id": "zkf1lvYPTa-I"
      },
      "execution_count": null,
      "outputs": []
    },
    {
      "cell_type": "code",
      "source": [
        "previsoes = regressor.predict(test_data)"
      ],
      "metadata": {
        "colab": {
          "base_uri": "https://localhost:8080/"
        },
        "id": "rTfmtsp7Tr5K",
        "outputId": "c8d5ec97-6064-4246-bbea-eebdb8471dc4"
      },
      "execution_count": 19,
      "outputs": [
        {
          "output_type": "stream",
          "name": "stdout",
          "text": [
            "\u001b[1m1/1\u001b[0m \u001b[32m━━━━━━━━━━━━━━━━━━━━\u001b[0m\u001b[37m\u001b[0m \u001b[1m0s\u001b[0m 21ms/step\n"
          ]
        }
      ]
    },
    {
      "cell_type": "code",
      "source": [
        "previsoes.mean()"
      ],
      "metadata": {
        "colab": {
          "base_uri": "https://localhost:8080/"
        },
        "id": "_AjvhXBPTxVC",
        "outputId": "6f1072a9-94fc-4445-b396-b1c1443dbb96"
      },
      "execution_count": 20,
      "outputs": [
        {
          "output_type": "execute_result",
          "data": {
            "text/plain": [
              "15.653729"
            ]
          },
          "metadata": {},
          "execution_count": 20
        }
      ]
    },
    {
      "cell_type": "code",
      "source": [
        "test_labels.mean()"
      ],
      "metadata": {
        "colab": {
          "base_uri": "https://localhost:8080/"
        },
        "id": "3O3q06q6T9iN",
        "outputId": "72041d93-cbe7-46ad-f010-df1c8705bf4d"
      },
      "execution_count": 21,
      "outputs": [
        {
          "output_type": "execute_result",
          "data": {
            "text/plain": [
              "15.427272727272726"
            ]
          },
          "metadata": {},
          "execution_count": 21
        }
      ]
    }
  ]
}