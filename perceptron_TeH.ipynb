{
  "nbformat": 4,
  "nbformat_minor": 0,
  "metadata": {
    "colab": {
      "name": "perceptron-TeH.ipynb",
      "provenance": [],
      "include_colab_link": true
    },
    "kernelspec": {
      "name": "python3",
      "display_name": "Python 3"
    }
  },
  "cells": [
    {
      "cell_type": "markdown",
      "metadata": {
        "id": "view-in-github",
        "colab_type": "text"
      },
      "source": [
        "<a href=\"https://colab.research.google.com/github/tmoura/machinelearning/blob/master/perceptron_TeH.ipynb\" target=\"_parent\"><img src=\"https://colab.research.google.com/assets/colab-badge.svg\" alt=\"Open In Colab\"/></a>"
      ]
    },
    {
      "cell_type": "markdown",
      "metadata": {
        "id": "do-f2TmhmYuU"
      },
      "source": [
        "## Perceptron para Reconhecimento das letras H e T <br><br>\n"
      ]
    },
    {
      "cell_type": "code",
      "metadata": {
        "id": "fyXdjfS7ZUoX"
      },
      "source": [
        "###########\n",
        "#\n",
        "# Perceptron H e T\n",
        "#\n",
        "###########\n",
        "\n",
        "H = [1,0,1,1,1,1,1,0,1]\n",
        "T = [1,1,1,0,1,0,0,1,0]\n",
        "\n",
        "train_x = [H,T]\n",
        "train_y = [0,1]\n",
        "\n",
        "teste_x = [[0,0,1,1,1,1,1,0,1],[1,1,0,0,1,0,0,1,0]]\n",
        "\n",
        "teta = 0\n",
        "w = [0,0,0,0,0,0,0,0,0]\n",
        "n = 0.05"
      ],
      "execution_count": null,
      "outputs": []
    }
  ]
}