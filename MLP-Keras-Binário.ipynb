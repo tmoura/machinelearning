{
  "nbformat": 4,
  "nbformat_minor": 0,
  "metadata": {
    "colab": {
      "provenance": [],
      "authorship_tag": "ABX9TyOiwMz5Ly8FooAWtFvTacaR",
      "include_colab_link": true
    },
    "kernelspec": {
      "name": "python3",
      "display_name": "Python 3"
    },
    "language_info": {
      "name": "python"
    }
  },
  "cells": [
    {
      "cell_type": "markdown",
      "metadata": {
        "id": "view-in-github",
        "colab_type": "text"
      },
      "source": [
        "<a href=\"https://colab.research.google.com/github/tmoura/machinelearning/blob/master/MLP-Keras-Bin%C3%A1rio.ipynb\" target=\"_parent\"><img src=\"https://colab.research.google.com/assets/colab-badge.svg\" alt=\"Open In Colab\"/></a>"
      ]
    },
    {
      "cell_type": "markdown",
      "source": [
        "### MLP usando Keras\n",
        "\n",
        "Dataset Parkinsons - Binário"
      ],
      "metadata": {
        "id": "6DSGabApdz7k"
      }
    },
    {
      "cell_type": "code",
      "metadata": {
        "id": "QPWYx2U4cVZM",
        "colab": {
          "base_uri": "https://localhost:8080/"
        },
        "outputId": "8a9f0f5e-cbd4-42a9-fd71-e6e194292475"
      },
      "source": [
        "from sklearn.model_selection import train_test_split\n",
        "from sklearn import metrics\n",
        "import pandas as pd\n",
        "from sklearn.neural_network import MLPClassifier\n",
        "from sklearn.preprocessing import MinMaxScaler\n",
        "import numpy as np\n",
        "\n",
        "url = \"https://raw.githubusercontent.com/tmoura/machinelearning/master/parkinsons.data\"\n",
        "\n",
        "# Carregar base de dados\n",
        "dataset = pd.read_csv(url, header=None)\n",
        "\n",
        "columns = len(dataset.columns)\n",
        "\n",
        "y = dataset[0] # extrai a primeira coluna, que é o label\n",
        "X = dataset.loc[:,1:columns-1]\n",
        "\n",
        "## Mormalização dos atributos\n",
        "df = X.values\n",
        "min_max_scaler = MinMaxScaler()\n",
        "x_scaled = min_max_scaler.fit_transform(df)\n",
        "X = pd.DataFrame(x_scaled)\n",
        "\n",
        "# y é 1 e 2 -- tranformar para 0 e 1\n",
        "\n",
        "y[y == 1] = 0\n",
        "y[y == 2] = 1"
      ],
      "execution_count": 1,
      "outputs": [
        {
          "output_type": "stream",
          "name": "stderr",
          "text": [
            "<ipython-input-1-50012c9cc6c5>:26: SettingWithCopyWarning: \n",
            "A value is trying to be set on a copy of a slice from a DataFrame\n",
            "\n",
            "See the caveats in the documentation: https://pandas.pydata.org/pandas-docs/stable/user_guide/indexing.html#returning-a-view-versus-a-copy\n",
            "  y[y == 1] = 0\n",
            "<ipython-input-1-50012c9cc6c5>:27: SettingWithCopyWarning: \n",
            "A value is trying to be set on a copy of a slice from a DataFrame\n",
            "\n",
            "See the caveats in the documentation: https://pandas.pydata.org/pandas-docs/stable/user_guide/indexing.html#returning-a-view-versus-a-copy\n",
            "  y[y == 2] = 1\n"
          ]
        }
      ]
    },
    {
      "cell_type": "code",
      "metadata": {
        "id": "8SDYzZfwce8e"
      },
      "source": [
        "X_train, X_test, y_train, y_test = train_test_split(X, y, test_size=0.2, stratify=y) # 80% treino e 20% teste"
      ],
      "execution_count": 2,
      "outputs": []
    },
    {
      "cell_type": "code",
      "source": [
        "from tensorflow.keras.models import Sequential\n",
        "from tensorflow.keras.layers import Dense\n",
        "import tensorflow as tf\n",
        "from keras.models import Sequential\n",
        "\n",
        "model = Sequential([\n",
        "    tf.keras.layers.InputLayer(shape = (22,)),\n",
        "    tf.keras.layers.Dense(units = 12, activation = 'tanh'),\n",
        "    tf.keras.layers.Dense(units = 12, activation = 'tanh'),\n",
        "    tf.keras.layers.Dense(units = 1, activation = 'sigmoid')\n",
        "])\n",
        "\n",
        "model.compile(optimizer='Adam', loss='binary_crossentropy', metrics=['accuracy'])\n",
        "\n",
        "model.fit(X_train, y_train, epochs = 500)"
      ],
      "metadata": {
        "id": "J7EJFudROX-p"
      },
      "execution_count": null,
      "outputs": []
    },
    {
      "cell_type": "code",
      "source": [
        "previsoes = model.predict(X_test)\n",
        "previsoes[previsoes >= 0.5] = 1\n",
        "previsoes[previsoes < 0.5] = 0\n",
        "\n",
        "previsoes = pd.Series(previsoes[:,0]).astype(int)\n",
        "\n",
        "acc = metrics.accuracy_score(previsoes, y_test)\n",
        "show = round(acc * 100)\n",
        "print(\"{}%\".format(show))\n",
        "\n",
        "print(list(previsoes))\n",
        "print(list(y_test))"
      ],
      "metadata": {
        "id": "ISzHw9dOOgqv"
      },
      "execution_count": null,
      "outputs": []
    }
  ]
}