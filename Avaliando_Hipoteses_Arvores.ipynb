{
  "nbformat": 4,
  "nbformat_minor": 0,
  "metadata": {
    "colab": {
      "name": "Avaliando-Hipoteses.ipynb",
      "provenance": [],
      "authorship_tag": "ABX9TyPGkEHp3jCLSkNvgI8KknzA",
      "include_colab_link": true
    },
    "kernelspec": {
      "name": "python3",
      "display_name": "Python 3"
    }
  },
  "cells": [
    {
      "cell_type": "markdown",
      "metadata": {
        "id": "view-in-github",
        "colab_type": "text"
      },
      "source": [
        "<a href=\"https://colab.research.google.com/github/tmoura/machinelearning/blob/master/Avaliando_Hipoteses_Arvores.ipynb\" target=\"_parent\"><img src=\"https://colab.research.google.com/assets/colab-badge.svg\" alt=\"Open In Colab\"/></a>"
      ]
    },
    {
      "cell_type": "markdown",
      "metadata": {
        "id": "IcwIUAAVD11Z"
      },
      "source": [
        "## Carregar os Dados"
      ]
    },
    {
      "cell_type": "code",
      "metadata": {
        "id": "LvplY6UyDWUV"
      },
      "source": [
        "from sklearn import metrics\n",
        "import pandas as pd\n",
        "from sklearn.neural_network import MLPClassifier\n",
        "import numpy as np\n",
        "\n",
        "url = \"https://raw.githubusercontent.com/tmoura/machinelearning/master/iris.data\"\n",
        "\n",
        "# Carregar base de dados\n",
        "dataset = pd.read_csv(url, header=None)\n",
        "\n",
        "columns = len(dataset.columns)\n",
        "\n",
        "y = dataset[0] # extrai a primeira coluna, que é o label\n",
        "X = dataset.loc[:,1:columns-1]\n",
        "\n",
        "# Transforma para Array NumPy\n",
        "X = np.array(X)\n",
        "y = np.array(y)"
      ],
      "execution_count": null,
      "outputs": []
    },
    {
      "cell_type": "markdown",
      "metadata": {
        "id": "ehVSTubwH2JN"
      },
      "source": [
        "## 10-Fold"
      ]
    },
    {
      "cell_type": "code",
      "metadata": {
        "id": "1plhxTwAD9g-"
      },
      "source": [
        "from sklearn.model_selection import StratifiedKFold\n",
        "\n",
        "folds = 10\n",
        "\n",
        "kf = StratifiedKFold(n_splits = folds)\n",
        "\n",
        "## 10 conjuntos de dados\n",
        "X_train = []\n",
        "y_train = []\n",
        "\n",
        "X_test = []\n",
        "y_test = []\n",
        "\n",
        "for train_index, test_index in kf.split(X,y):\n",
        "  X_train.append(X[train_index])\n",
        "  X_test.append(X[test_index])\n",
        "  \n",
        "  y_train.append(y[train_index])\n",
        "  y_test.append(y[test_index])"
      ],
      "execution_count": null,
      "outputs": []
    },
    {
      "cell_type": "markdown",
      "metadata": {
        "id": "A5L0D7nNJo_s"
      },
      "source": [
        "## Treinar os modelos e Testar\n",
        "\n"
      ]
    },
    {
      "cell_type": "code",
      "metadata": {
        "id": "e3SpqKwGIBKI"
      },
      "source": [
        "from sklearn import metrics\n",
        "from sklearn.neural_network import MLPClassifier\n",
        "import numpy as np\n",
        "\n",
        "results = []\n",
        "\n",
        "for i in range(folds):\n",
        "  model = MLPClassifier(hidden_layer_sizes=(3,2), activation='tanh',max_iter=3000, random_state=1)\n",
        "  model = model.fit(X_train[i], y_train[i])\n",
        "\n",
        "  result = model.predict(X_test[i])\n",
        "\n",
        "  acc = metrics.accuracy_score(result, y_test[i])\n",
        "\n",
        "  results.append(acc)\n",
        "\n",
        "\n",
        "print(results)\n",
        "show = round(np.mean(results) * 100)\n",
        "print(\"{}%\".format(show))\n",
        "\n",
        "confusion_matrix()"
      ],
      "execution_count": null,
      "outputs": []
    },
    {
      "cell_type": "markdown",
      "metadata": {
        "id": "OaHMITOoylrE"
      },
      "source": [
        "## OUTRA OPÇÃO\n",
        "\n",
        "# usando a função ***cross_val_score***"
      ]
    },
    {
      "cell_type": "code",
      "metadata": {
        "id": "hdZgxXWSyoJK"
      },
      "source": [
        "from sklearn.model_selection import train_test_split\n",
        "from sklearn.model_selection import cross_val_score\n",
        "import numpy as np\n",
        "\n",
        "folds = 10\n",
        "\n",
        "model = MLPClassifier(hidden_layer_sizes=(3,2), activation='tanh',max_iter=3000, random_state=1)\n",
        "\n",
        "scores = cross_val_score(model, X, y, cv=folds)\n",
        "\n",
        "print(scores)\n",
        "show = round(np.mean(scores) * 100)\n",
        "print(\"{}%\".format(show))"
      ],
      "execution_count": null,
      "outputs": []
    }
  ]
}