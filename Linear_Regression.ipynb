{
  "nbformat": 4,
  "nbformat_minor": 0,
  "metadata": {
    "colab": {
      "provenance": [],
      "authorship_tag": "ABX9TyNQHm7N4mRQLgcfsClqbBkL",
      "include_colab_link": true
    },
    "kernelspec": {
      "name": "python3",
      "display_name": "Python 3"
    },
    "language_info": {
      "name": "python"
    }
  },
  "cells": [
    {
      "cell_type": "markdown",
      "metadata": {
        "id": "view-in-github",
        "colab_type": "text"
      },
      "source": [
        "<a href=\"https://colab.research.google.com/github/tmoura/machinelearning/blob/master/Linear_Regression.ipynb\" target=\"_parent\"><img src=\"https://colab.research.google.com/assets/colab-badge.svg\" alt=\"Open In Colab\"/></a>"
      ]
    },
    {
      "cell_type": "code",
      "execution_count": 2,
      "metadata": {
        "colab": {
          "base_uri": "https://localhost:8080/"
        },
        "id": "7tb2z_FnQfIZ",
        "outputId": "fbd26d9e-827e-4dd5-cac1-d649d623f51c"
      },
      "outputs": [
        {
          "output_type": "stream",
          "name": "stdout",
          "text": [
            "dict_keys(['data', 'target', 'frame', 'DESCR', 'feature_names', 'data_filename', 'target_filename', 'data_module'])\n"
          ]
        }
      ],
      "source": [
        "from sklearn.datasets import load_diabetes\n",
        "diabetes = load_diabetes()\n",
        "\n",
        "print(diabetes.keys())"
      ]
    },
    {
      "cell_type": "code",
      "source": [
        "print(diabetes['DESCR'])"
      ],
      "metadata": {
        "id": "2ZymKUSaRpB_"
      },
      "execution_count": null,
      "outputs": []
    },
    {
      "cell_type": "code",
      "source": [
        "import pandas as pd\n",
        "\n",
        "X = pd.DataFrame(diabetes['data'] )\n",
        "y = pd.DataFrame(diabetes['target'] )\n",
        "\n",
        "X.head()"
      ],
      "metadata": {
        "id": "lWVbocjjR3Qu"
      },
      "execution_count": null,
      "outputs": []
    },
    {
      "cell_type": "code",
      "source": [
        "import seaborn as sns\n",
        "\n",
        "sns.distplot(diabetes['target']);"
      ],
      "metadata": {
        "colab": {
          "base_uri": "https://localhost:8080/",
          "height": 303
        },
        "id": "p7vCaU-tSXy9",
        "outputId": "3896e7c9-f279-4822-ae4b-d2cc1751908f"
      },
      "execution_count": 50,
      "outputs": [
        {
          "output_type": "stream",
          "name": "stderr",
          "text": [
            "/usr/local/lib/python3.7/dist-packages/seaborn/distributions.py:2619: FutureWarning: `distplot` is a deprecated function and will be removed in a future version. Please adapt your code to use either `displot` (a figure-level function with similar flexibility) or `histplot` (an axes-level function for histograms).\n",
            "  warnings.warn(msg, FutureWarning)\n"
          ]
        },
        {
          "output_type": "display_data",
          "data": {
            "text/plain": [
              "<Figure size 432x288 with 1 Axes>"
            ],
            "image/png": "[encoded data removed]"
          },
          "metadata": {}
        }
      ]
    },
    {
      "cell_type": "code",
      "source": [
        "from sklearn.model_selection  import train_test_split\n",
        "\n",
        "X_train, X_test, y_train, y_test = train_test_split(X, y, test_size=0.2, random_state=0)\n",
        "\n",
        "print(X_train.shape, X_test.shape, y_train.shape, y_test.shape)"
      ],
      "metadata": {
        "colab": {
          "base_uri": "https://localhost:8080/"
        },
        "id": "xqeh8rhPSraB",
        "outputId": "e3b6d4a7-2d06-4869-c78a-ce73d6f51462"
      },
      "execution_count": 14,
      "outputs": [
        {
          "output_type": "stream",
          "name": "stdout",
          "text": [
            "(353, 10) (89, 10) (353, 1) (89, 1)\n"
          ]
        }
      ]
    },
    {
      "cell_type": "code",
      "source": [
        "from sklearn.linear_model import LinearRegression\n",
        "\n",
        "lm = LinearRegression()\n",
        "\n",
        "lm.fit(X_train, y_train)"
      ],
      "metadata": {
        "colab": {
          "base_uri": "https://localhost:8080/"
        },
        "id": "dUtABThjTAtf",
        "outputId": "cc6dff6e-eb3f-4e0a-8c68-110879b92b43"
      },
      "execution_count": 15,
      "outputs": [
        {
          "output_type": "execute_result",
          "data": {
            "text/plain": [
              "LinearRegression()"
            ]
          },
          "metadata": {},
          "execution_count": 15
        }
      ]
    },
    {
      "cell_type": "code",
      "source": [
        "print('labels\\n',X.columns)\n",
        "print('Coefficients: \\n', lm.coef_)\n",
        "print('Intercept: \\n', lm.intercept_)\n",
        "print('R2 for Train)', lm.score( X_train, y_train ))\n",
        "print('R2 for Test (cross validation)', lm.score(X_test, y_test))"
      ],
      "metadata": {
        "colab": {
          "base_uri": "https://localhost:8080/"
        },
        "id": "UpVpYyVGTPEV",
        "outputId": "ef5c2034-3509-49ee-a66b-838a22a5e825"
      },
      "execution_count": 60,
      "outputs": [
        {
          "output_type": "stream",
          "name": "stdout",
          "text": [
            "labels\n",
            " RangeIndex(start=0, stop=10, step=1)\n",
            "Coefficients: \n",
            " [[ -35.55683674 -243.1692265   562.75404632  305.47203008 -662.78772128\n",
            "   324.27527477   24.78193291  170.33056502  731.67810787   43.02846824]]\n",
            "Intercept: \n",
            " [152.53813352]\n",
            "R2 for Train) 0.5539285357415583\n",
            "R2 for Test (cross validation) 0.33222203269065176\n"
          ]
        }
      ]
    },
    {
      "cell_type": "code",
      "source": [
        "from sklearn.model_selection import cross_val_score\n",
        "\n",
        "scores = cross_val_score(lm, X_train, y_train, cv=10) \n",
        "\n",
        "print(\"R2:\", scores, \"\\n R2_avg: %0.2f (+/- %0.2f)\" % (scores.mean(), scores.std() * 2))"
      ],
      "metadata": {
        "id": "811gYcsETRUM"
      },
      "execution_count": null,
      "outputs": []
    },
    {
      "cell_type": "code",
      "source": [
        "from sklearn import metrics\n",
        "\n",
        "result = lm.predict(X_test)\n",
        "\n",
        "acc = metrics.mean_squared_error(result, y_test)\n",
        "\n",
        "print(acc)\n",
        "\n",
        "df = y_test.copy()\n",
        "\n",
        "df['PRED'] = result\n",
        "df = df.rename(columns={0: 'TRUE'})\n",
        "\n",
        "print(df)"
      ],
      "metadata": {
        "id": "4tKMqblMT4co"
      },
      "execution_count": null,
      "outputs": []
    },
    {
      "cell_type": "code",
      "source": [
        "import seaborn as sns; sns.set(color_codes=True)\n",
        "\n",
        "ax = sns.regplot(x='TRUE', y=\"PRED\", data=df[['TRUE','PRED']])"
      ],
      "metadata": {
        "id": "jDRYz7MXeXq7"
      },
      "execution_count": null,
      "outputs": []
    }
  ]
}