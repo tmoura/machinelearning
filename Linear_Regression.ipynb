{
  "nbformat": 4,
  "nbformat_minor": 0,
  "metadata": {
    "colab": {
      "provenance": [],
      "authorship_tag": "ABX9TyP6HSvz1fT9Tu50EdfG7iaG",
      "include_colab_link": true
    },
    "kernelspec": {
      "name": "python3",
      "display_name": "Python 3"
    },
    "language_info": {
      "name": "python"
    }
  },
  "cells": [
    {
      "cell_type": "markdown",
      "metadata": {
        "id": "view-in-github",
        "colab_type": "text"
      },
      "source": [
        "<a href=\"https://colab.research.google.com/github/tmoura/machinelearning/blob/master/Linear_Regression.ipynb\" target=\"_parent\"><img src=\"https://colab.research.google.com/assets/colab-badge.svg\" alt=\"Open In Colab\"/></a>"
      ]
    },
    {
      "cell_type": "code",
      "execution_count": 1,
      "metadata": {
        "colab": {
          "base_uri": "https://localhost:8080/"
        },
        "id": "7tb2z_FnQfIZ",
        "outputId": "179071b6-4cd1-4cbc-8601-807ebc976d57"
      },
      "outputs": [
        {
          "output_type": "stream",
          "name": "stdout",
          "text": [
            "dict_keys(['data', 'target', 'frame', 'DESCR', 'feature_names', 'data_filename', 'target_filename', 'data_module'])\n"
          ]
        }
      ],
      "source": [
        "from sklearn.datasets import load_diabetes\n",
        "diabetes = load_diabetes()\n",
        "\n",
        "print(diabetes.keys())"
      ]
    },
    {
      "cell_type": "code",
      "source": [
        "print(diabetes['DESCR'])"
      ],
      "metadata": {
        "id": "2ZymKUSaRpB_"
      },
      "execution_count": null,
      "outputs": []
    },
    {
      "cell_type": "code",
      "source": [
        "import pandas as pd\n",
        "\n",
        "X = pd.DataFrame(diabetes['data'] )\n",
        "y = pd.DataFrame(diabetes['target'] )\n",
        "\n",
        "X.head()"
      ],
      "metadata": {
        "id": "lWVbocjjR3Qu"
      },
      "execution_count": null,
      "outputs": []
    },
    {
      "cell_type": "code",
      "source": [
        "import seaborn as sns\n",
        "\n",
        "sns.distplot(diabetes['target']);"
      ],
      "metadata": {
        "id": "p7vCaU-tSXy9"
      },
      "execution_count": null,
      "outputs": []
    },
    {
      "cell_type": "code",
      "source": [
        "from sklearn.model_selection  import train_test_split\n",
        "\n",
        "X_train, X_test, y_train, y_test = train_test_split(X, y, test_size=0.2, random_state=0)\n",
        "\n",
        "print(X_train.shape, X_test.shape, y_train.shape, y_test.shape)"
      ],
      "metadata": {
        "colab": {
          "base_uri": "https://localhost:8080/"
        },
        "id": "xqeh8rhPSraB",
        "outputId": "3728c67f-9a06-480d-efa7-abcad6d39643"
      },
      "execution_count": 5,
      "outputs": [
        {
          "output_type": "stream",
          "name": "stdout",
          "text": [
            "(353, 10) (89, 10) (353, 1) (89, 1)\n"
          ]
        }
      ]
    },
    {
      "cell_type": "code",
      "source": [
        "from sklearn.linear_model import LinearRegression\n",
        "\n",
        "lm = LinearRegression()\n",
        "\n",
        "lm.fit(X_train, y_train)"
      ],
      "metadata": {
        "colab": {
          "base_uri": "https://localhost:8080/"
        },
        "id": "dUtABThjTAtf",
        "outputId": "f7fbfd1f-e60a-4309-e3b2-87d1802587b3"
      },
      "execution_count": 6,
      "outputs": [
        {
          "output_type": "execute_result",
          "data": {
            "text/plain": [
              "LinearRegression()"
            ]
          },
          "metadata": {},
          "execution_count": 6
        }
      ]
    },
    {
      "cell_type": "code",
      "source": [
        "print('Intercept: ', lm.intercept_)\n",
        "print('R2 for Train: ', lm.score( X_train, y_train ))\n",
        "print('R2 for Test: ', lm.score(X_test, y_test))"
      ],
      "metadata": {
        "colab": {
          "base_uri": "https://localhost:8080/"
        },
        "id": "UpVpYyVGTPEV",
        "outputId": "7ef75e4e-55ef-4f52-84c1-5928096f5635"
      },
      "execution_count": 14,
      "outputs": [
        {
          "output_type": "stream",
          "name": "stdout",
          "text": [
            "Intercept:  [152.53813352]\n",
            "R2 for Train:  0.5539285357415583\n",
            "R2 for Test:  0.33222203269065176\n"
          ]
        }
      ]
    },
    {
      "cell_type": "code",
      "source": [
        "from sklearn import metrics\n",
        "\n",
        "result = lm.predict(X_test)\n",
        "\n",
        "acc = metrics.mean_squared_error(result, y_test)\n",
        "\n",
        "print(acc)\n",
        "\n",
        "df = y_test.copy()\n",
        "\n",
        "df['PRED'] = result\n",
        "df = df.rename(columns={0: 'TRUE'})\n",
        "\n",
        "print(df)"
      ],
      "metadata": {
        "id": "4tKMqblMT4co"
      },
      "execution_count": null,
      "outputs": []
    },
    {
      "cell_type": "code",
      "source": [
        "import seaborn as sns; sns.set(color_codes=True)\n",
        "\n",
        "ax = sns.regplot(x='TRUE', y=\"PRED\", data=df[['TRUE','PRED']])"
      ],
      "metadata": {
        "id": "jDRYz7MXeXq7"
      },
      "execution_count": null,
      "outputs": []
    }
  ]
}