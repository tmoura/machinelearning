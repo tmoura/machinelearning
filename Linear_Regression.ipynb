{
  "nbformat": 4,
  "nbformat_minor": 0,
  "metadata": {
    "colab": {
      "provenance": [],
      "authorship_tag": "ABX9TyNDPpft/UaSCXpUxE9U3V6V",
      "include_colab_link": true
    },
    "kernelspec": {
      "name": "python3",
      "display_name": "Python 3"
    },
    "language_info": {
      "name": "python"
    }
  },
  "cells": [
    {
      "cell_type": "markdown",
      "metadata": {
        "id": "view-in-github",
        "colab_type": "text"
      },
      "source": [
        "<a href=\"https://colab.research.google.com/github/tmoura/machinelearning/blob/master/Linear_Regression.ipynb\" target=\"_parent\"><img src=\"https://colab.research.google.com/assets/colab-badge.svg\" alt=\"Open In Colab\"/></a>"
      ]
    },
    {
      "cell_type": "code",
      "execution_count": 2,
      "metadata": {
        "colab": {
          "base_uri": "https://localhost:8080/"
        },
        "id": "7tb2z_FnQfIZ",
        "outputId": "b840655c-2753-4809-b352-55fb6bf54824"
      },
      "outputs": [
        {
          "output_type": "stream",
          "name": "stdout",
          "text": [
            "dict_keys(['data', 'target', 'frame', 'DESCR', 'feature_names', 'data_filename', 'target_filename', 'data_module'])\n"
          ]
        }
      ],
      "source": [
        "from sklearn.datasets import load_diabetes\n",
        "diabetes = load_diabetes()\n",
        "\n",
        "print(diabetes.keys())"
      ]
    },
    {
      "cell_type": "code",
      "source": [
        "print(diabetes['DESCR'])"
      ],
      "metadata": {
        "id": "2ZymKUSaRpB_"
      },
      "execution_count": null,
      "outputs": []
    },
    {
      "cell_type": "code",
      "source": [
        "import pandas as pd\n",
        "\n",
        "X = pd.DataFrame(diabetes['data'] )\n",
        "y = pd.DataFrame(diabetes['target'] )\n",
        "\n",
        "X.head()"
      ],
      "metadata": {
        "id": "lWVbocjjR3Qu"
      },
      "execution_count": null,
      "outputs": []
    },
    {
      "cell_type": "code",
      "source": [
        "import seaborn as sns\n",
        "\n",
        "sns.distplot(diabetes['target']);"
      ],
      "metadata": {
        "id": "p7vCaU-tSXy9"
      },
      "execution_count": null,
      "outputs": []
    },
    {
      "cell_type": "code",
      "source": [
        "from sklearn.model_selection  import train_test_split\n",
        "\n",
        "X_train, X_test, y_train, y_test = train_test_split(X, y, test_size=0.2, random_state=0)\n",
        "\n",
        "print(X_train.shape, X_test.shape, y_train.shape, y_test.shape)"
      ],
      "metadata": {
        "id": "xqeh8rhPSraB"
      },
      "execution_count": null,
      "outputs": []
    },
    {
      "cell_type": "code",
      "source": [
        "from sklearn.linear_model import LinearRegression\n",
        "\n",
        "lm = LinearRegression()\n",
        "\n",
        "lm.fit(X_train, y_train)"
      ],
      "metadata": {
        "id": "dUtABThjTAtf"
      },
      "execution_count": null,
      "outputs": []
    },
    {
      "cell_type": "code",
      "source": [
        "print('Intercept: ', lm.intercept_)\n",
        "print('R2 for Train: ', lm.score( X_train, y_train ))\n",
        "print('R2 for Test: ', lm.score(X_test, y_test))"
      ],
      "metadata": {
        "colab": {
          "base_uri": "https://localhost:8080/"
        },
        "id": "UpVpYyVGTPEV",
        "outputId": "8c367a10-3c25-49e8-f0d6-41cae6a4a879"
      },
      "execution_count": 22,
      "outputs": [
        {
          "output_type": "stream",
          "name": "stdout",
          "text": [
            "Intercept:  [152.53813352]\n",
            "R2 for Train:  0.5539285357415583\n",
            "R2 for Test:  0.33222203269065176\n"
          ]
        }
      ]
    },
    {
      "cell_type": "code",
      "source": [
        "from sklearn import metrics\n",
        "\n",
        "result = lm.predict(X_test)\n",
        "\n",
        "acc = metrics.mean_squared_error(result, y_test)\n",
        "\n",
        "print('MSE:',acc)\n",
        "\n",
        "df = y_test.copy()\n",
        "\n",
        "df['PRED'] = result\n",
        "df = df.rename(columns={0: 'TRUE'})\n",
        "\n",
        "print('\\n\\n',df)"
      ],
      "metadata": {
        "id": "4tKMqblMT4co",
        "colab": {
          "base_uri": "https://localhost:8080/"
        },
        "outputId": "aa0948b7-cde8-49d4-d3ed-a4437902ab2f"
      },
      "execution_count": 12,
      "outputs": [
        {
          "output_type": "stream",
          "name": "stdout",
          "text": [
            "MSE: 3424.316688213733\n",
            "\n",
            "\n",
            "       TRUE        PRED\n",
            "362  321.0  238.471452\n",
            "249  215.0  248.931706\n",
            "271  127.0  164.054042\n",
            "435   64.0  120.307944\n",
            "400  175.0  187.424221\n",
            "..     ...         ...\n",
            "381  104.0   76.773777\n",
            "213   49.0   94.940469\n",
            "134  103.0  145.295505\n",
            "49   142.0  194.037764\n",
            "52    59.0  132.785343\n",
            "\n",
            "[89 rows x 2 columns]\n"
          ]
        }
      ]
    },
    {
      "cell_type": "code",
      "source": [
        "import seaborn as sns; \n",
        "\n",
        "ax = sns.lmplot(x='TRUE', y=\"PRED\", data=df[['TRUE','PRED']], ci=None)"
      ],
      "metadata": {
        "id": "jDRYz7MXeXq7",
        "colab": {
          "base_uri": "https://localhost:8080/",
          "height": 365
        },
        "outputId": "6f49fc87-4047-40bd-8a96-871ea2f52f0b"
      },
      "execution_count": 21,
      "outputs": [
        {
          "output_type": "display_data",
          "data": {
            "text/plain": [
              "<Figure size 360x360 with 1 Axes>"
            ],
            "image/png": "[encoded data removed]"
          },
          "metadata": {}
        }
      ]
    }
  ]
}