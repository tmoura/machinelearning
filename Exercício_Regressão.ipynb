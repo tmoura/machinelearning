{
  "nbformat": 4,
  "nbformat_minor": 0,
  "metadata": {
    "colab": {
      "provenance": [],
      "include_colab_link": true
    },
    "kernelspec": {
      "name": "python3",
      "display_name": "Python 3"
    },
    "language_info": {
      "name": "python"
    }
  },
  "cells": [
    {
      "cell_type": "markdown",
      "metadata": {
        "id": "view-in-github",
        "colab_type": "text"
      },
      "source": [
        "<a href=\"https://colab.research.google.com/github/tmoura/machinelearning/blob/master/Exerc%C3%ADcio_Regress%C3%A3o.ipynb\" target=\"_parent\"><img src=\"https://colab.research.google.com/assets/colab-badge.svg\" alt=\"Open In Colab\"/></a>"
      ]
    },
    {
      "cell_type": "code",
      "execution_count": null,
      "metadata": {
        "id": "_3zNAo4jbCKF"
      },
      "outputs": [],
      "source": [
        "## Exercício 1 - Dataset \"car_crashes\" do seaborn\n",
        "\n",
        "# 1) Carregar o dataset \"car_crashes\"do seaborn\n",
        "# 2) Dropar a coluna \"abbrev\"\n",
        "# 3) Separar o dataframe, deixando a coluna 'total' para o target (coluna objetivo - y) e o restante para o X\n",
        "# 4) Normalizar todo o X\n",
        "\n",
        "### Normalização ###\n",
        "# df = X.values\n",
        "# min_max_scaler = preprocessing.MinMaxScaler()\n",
        "# x_scaled = min_max_scaler.fit_transform(df)\n",
        "# X = pd.DataFrame(x_scaled)\n",
        "\n",
        "# 5) Separar os dados em treinamento e teste\n",
        "# 6) Treinar um modelo linear\n",
        "# 7) Apresentar os resultados dos erros usando: MSE, MAE e RMSE\n",
        "import seaborn as sns\n",
        "from sklearn import datasets, linear_model\n",
        "from sklearn.metrics import mean_squared_error, r2_score\n",
        "from sklearn.model_selection import train_test_split\n",
        "\n",
        "data = sns.load_dataset(\"car_crashes\")\n"
      ]
    },
    {
      "cell_type": "code",
      "source": [
        "## Exercício 2 - Dataset Parkinsons (dataset com 2 classes)\n",
        "\n",
        "# 1) Carregar o dataset \"parkinsons\" pela URL abaixo:\n",
        "\n",
        "# url = \"https://raw.githubusercontent.com/tmoura/machinelearning/master/parkinsons.data\"\n",
        "\n",
        "# 2) Separar os dados y e X. A coluna y é a coluna 0 (zero)\n",
        "# 3) Separar os dados em treinamento e teste\n",
        "# 4) Treinar um modelo de regressão logística\n",
        "# 5) Apresentar os resultados de acurácia em percentual ( use a função \"accuracy_score\" do pacote \"metrics\")\n",
        "\n",
        "import numpy as np\n",
        "import pandas as pd\n",
        "\n",
        "from sklearn import datasets, linear_model\n",
        "from sklearn.metrics import mean_squared_error, r2_score\n",
        "from sklearn.model_selection import train_test_split\n",
        "from sklearn.linear_model import LogisticRegression\n",
        "from sklearn import metrics\n",
        "\n",
        "url = \"https://raw.githubusercontent.com/tmoura/machinelearning/master/parkinsons.data\"\n",
        "\n",
        "# Carregar base de dados\n",
        "dataset = pd.read_csv(url, header=None)\n",
        "\n",
        "columns = len(dataset.columns)\n",
        "\n",
        "y = dataset[0] # extrai a primeira coluna, que é o label\n",
        "X = dataset.loc[:,1:columns-1]"
      ],
      "metadata": {
        "id": "NecXgZ5iytCc"
      },
      "execution_count": null,
      "outputs": []
    }
  ]
}