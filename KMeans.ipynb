{
  "nbformat": 4,
  "nbformat_minor": 0,
  "metadata": {
    "colab": {
      "name": "KMeans.ipynb",
      "provenance": [],
      "authorship_tag": "ABX9TyPE7arasPy5hnn39rBtEz61",
      "include_colab_link": true
    },
    "kernelspec": {
      "name": "python3",
      "display_name": "Python 3"
    }
  },
  "cells": [
    {
      "cell_type": "markdown",
      "metadata": {
        "id": "view-in-github",
        "colab_type": "text"
      },
      "source": [
        "<a href=\"https://colab.research.google.com/github/tmoura/machinelearning/blob/master/KMeans.ipynb\" target=\"_parent\"><img src=\"https://colab.research.google.com/assets/colab-badge.svg\" alt=\"Open In Colab\"/></a>"
      ]
    },
    {
      "cell_type": "markdown",
      "metadata": {
        "id": "WnmCq6x52OSB"
      },
      "source": [
        "## Load Dataset"
      ]
    },
    {
      "cell_type": "code",
      "metadata": {
        "id": "E3rdcZKR2KuX"
      },
      "source": [
        "import pandas as pd\n",
        "\n",
        "url = \"https://raw.githubusercontent.com/tmoura/machinelearning/master/iris.data\"\n",
        "\n",
        "# Carregar base de dados\n",
        "dataset = pd.read_csv(url, header=None)\n",
        "\n",
        "columns = len(dataset.columns)\n",
        "\n",
        "y = dataset[0] # extrai a primeira coluna, que é o label\n",
        "X = dataset.loc[:,1:columns-1]"
      ],
      "execution_count": 1,
      "outputs": []
    },
    {
      "cell_type": "markdown",
      "metadata": {
        "id": "pZkj7nGi2bd9"
      },
      "source": [
        "## Split Dataset and Train Model"
      ]
    },
    {
      "cell_type": "code",
      "metadata": {
        "id": "TuBs6xD-2eOZ"
      },
      "source": [
        "from sklearn.model_selection import train_test_split\n",
        "from sklearn.cluster import KMeans\n",
        "\n",
        "X_train, X_test, y_train, y_test = train_test_split(X, y, test_size=0.2, stratify=y) # 80% treino e 20% teste\n",
        "\n",
        "myset = set(y_train) # Cria um conjunto. Em conjuntos, dados não se repetem. Assim, esse conjunto conterá apenas um valor de cada, ou seja: [1,2,3]\n",
        "clusters = len(myset) # Quantos clusters teremos no KMeans\n",
        "\n",
        "model = KMeans(n_clusters = clusters)\n",
        "model = model.fit(X_train)"
      ],
      "execution_count": 2,
      "outputs": []
    },
    {
      "cell_type": "markdown",
      "metadata": {
        "id": "NjQ0ozjQSsS4"
      },
      "source": [
        "## It determines the cluster labels"
      ]
    },
    {
      "cell_type": "code",
      "metadata": {
        "id": "9Qihn7gCS_Rp"
      },
      "source": [
        "from collections import Counter\n",
        "\n",
        "# Pegar os labels dos padrões de Treinamento\n",
        "labels = model.labels_\n",
        "\n",
        "map_labels = []\n",
        "\n",
        "for i in range(clusters):\n",
        "  map_labels.append([])\n",
        "\n",
        "new_y_train = y_train.to_list()\n",
        "\n",
        "for i in range(len(y_train)):\n",
        "  for c in range(clusters):\n",
        "    if labels[i] == c:\n",
        "      map_labels[c].append(new_y_train[i])\n",
        "\n",
        "#print(map_labels)\n",
        "\n",
        "# Criar dicionário com os labells a serem mapeados\n",
        "mapping = {}\n",
        "\n",
        "for i in range(clusters):\n",
        "  final = Counter(map_labels[i]) # contar a classe que mais aparece\n",
        "  value = final.most_common(1)[0][0] # retorna a classe com maior frequência\n",
        "  mapping[i] = value\n",
        "\n",
        "#print(mapping)"
      ],
      "execution_count": 3,
      "outputs": []
    },
    {
      "cell_type": "markdown",
      "metadata": {
        "id": "Brh3GD4y2qOo"
      },
      "source": [
        "## Test the model"
      ]
    },
    {
      "cell_type": "code",
      "metadata": {
        "id": "E9j2ohwD2s4i"
      },
      "source": [
        "from sklearn import metrics\n",
        "\n",
        "result = model.predict(X_test)\n",
        "result = [mapping[i] for i in result]\n",
        "\n",
        "acc = metrics.accuracy_score(result, y_test)\n",
        "show = round(acc * 100)\n",
        "print(\"{}%\".format(show))\n",
        "\n",
        "print(list(result))\n",
        "print(list(y_test))"
      ],
      "execution_count": null,
      "outputs": []
    }
  ]
}