{
  "nbformat": 4,
  "nbformat_minor": 0,
  "metadata": {
    "colab": {
      "provenance": [],
      "include_colab_link": true
    },
    "kernelspec": {
      "name": "python3",
      "display_name": "Python 3"
    },
    "language_info": {
      "name": "python"
    }
  },
  "cells": [
    {
      "cell_type": "markdown",
      "metadata": {
        "id": "view-in-github",
        "colab_type": "text"
      },
      "source": [
        "<a href=\"https://colab.research.google.com/github/tmoura/machinelearning/blob/master/Exercicios_Revisao.ipynb\" target=\"_parent\"><img src=\"https://colab.research.google.com/assets/colab-badge.svg\" alt=\"Open In Colab\"/></a>"
      ]
    },
    {
      "cell_type": "code",
      "execution_count": null,
      "metadata": {
        "id": "UiwNFZi0EwsL"
      },
      "outputs": [],
      "source": [
        "## Exercício 1 - Dataset Digits do sklearn\n",
        "\n",
        "# Acesso: https://scikit-learn.org/stable/modules/generated/sklearn.datasets.load_digits.html#sklearn.datasets.load_digits\n",
        "\n",
        "# 1) Importar o pacote \"sklearn.datasets\" e o \"load_digits\"\n",
        "# 2) Carregar o dataset através do método: load_digits()\n",
        "# 3) Observe as keys do dataset usando o método \"keys\"\n",
        "# 4) A chave \"data\" são as features e a chave \"target\" é o y. Separe os dados em 2 variáveis diferentes\n",
        "# 5) Verificar a dimensionalidade das features através da variável shape\n",
        "# 6) Executar os experimentos 10x usando validação cruzada e mostrar a média das 10 execuções para cada algoritmo de aprendizado\n",
        "  #> 7) Separe o conjunto de dados em treinamento e teste usando o método: \"train_test_split\"\n",
        "  #> 8) Treinar MLP\n",
        "  #> 9 Treinar Árvore de Decisão\n",
        "  #> 10) Treinar KNN\n",
        "  #> 11) Treinar K-Means\n",
        "    #>> 12) No K-Means, treine com 10 clusters (a base load_digits tem 10 classes)\n",
        "    #>> 13) Fazer o mapeamento dos clusters com as classes, conforme o código que tá no classroom"
      ]
    },
    {
      "cell_type": "code",
      "source": [
        "## Exercício 2 - Dataset Orange Juice\n",
        "\n",
        "# 1) Carregar o dataset através do url abaixo:\n",
        "\n",
        "url = \"https://raw.githubusercontent.com/intro-stat-learning/ISLP/main/ISLP/data/OJ.csv\"\n",
        "\n",
        "# 2) Fazer o One-Hot Encoder na coluna: \"Store7\"\n",
        "# 3) O target é a coluna: \"Purchase\", ela é categórica e deve virar numérica via LabelEncoder\n",
        "# 4) Normalizar todas as features\n",
        "# 5) Executar os experimentos 10x usando validação cruzada e mostrar a média das 10 execuções para cada algoritmo de aprendizado\n",
        "  #> 6) Separe o conjunto de dados em treinamento e teste usando o método: \"train_test_split\"\n",
        "  #> 7) Treinar MLP\n",
        "  #> 8 Treinar Árvore de Decisão\n",
        "  #> 9) Treinar KNN\n",
        "  #> 10) Treinar K-Means\n",
        "    #>> 11) No K-Means, treine com 2 clusters (a base tem 2 classes)\n",
        "    #>> 12) Fazer o mapeamento dos clusters com as classes, conforme o código que tá no classroom"
      ],
      "metadata": {
        "id": "_362ExMzHvvB"
      },
      "execution_count": null,
      "outputs": []
    }
  ]
}