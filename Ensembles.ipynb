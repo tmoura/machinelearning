{
  "nbformat": 4,
  "nbformat_minor": 0,
  "metadata": {
    "colab": {
      "provenance": [],
      "collapsed_sections": [],
      "authorship_tag": "ABX9TyNVTDPnr/4/6fIixX5vLnOS",
      "include_colab_link": true
    },
    "kernelspec": {
      "name": "python3",
      "display_name": "Python 3"
    },
    "language_info": {
      "name": "python"
    }
  },
  "cells": [
    {
      "cell_type": "markdown",
      "metadata": {
        "id": "view-in-github",
        "colab_type": "text"
      },
      "source": [
        "<a href=\"https://colab.research.google.com/github/tmoura/machinelearning/blob/master/Ensembles.ipynb\" target=\"_parent\"><img src=\"https://colab.research.google.com/assets/colab-badge.svg\" alt=\"Open In Colab\"/></a>"
      ]
    },
    {
      "cell_type": "code",
      "execution_count": 6,
      "metadata": {
        "id": "CMsucJlVMoVp"
      },
      "outputs": [],
      "source": [
        "from sklearn.model_selection import train_test_split\n",
        "from sklearn import metrics\n",
        "import pandas as pd\n",
        "from sklearn.ensemble import RandomForestClassifier\n",
        "from sklearn.ensemble import GradientBoostingClassifier\n",
        "\n",
        "url = \"https://raw.githubusercontent.com/tmoura/machinelearning/master/iris.data\"\n",
        "\n",
        "# Carregar base de dados\n",
        "dataset = pd.read_csv(url, header=None)\n",
        "\n",
        "columns = len(dataset.columns)\n",
        "\n",
        "y = dataset[0] # extrai a primeira coluna, que é o label\n",
        "X = dataset.loc[:,1:columns-1]"
      ]
    },
    {
      "cell_type": "code",
      "source": [
        "X_train, X_test, y_train, y_test = train_test_split(X, y, test_size=0.2, stratify=y) # 80% treino e 20% teste\n",
        "\n",
        "### Random Forest\n",
        "model_RF = RandomForestClassifier(max_depth=2)\n",
        "model_RF = model_RF.fit(X_train, y_train)\n",
        "\n",
        "### Gradiente Boosting\n",
        "model_GB = GradientBoostingClassifier(max_depth=2)\n",
        "model_GB = model_GB.fit(X_train, y_train)"
      ],
      "metadata": {
        "id": "qQIgz-OqMuqJ"
      },
      "execution_count": 11,
      "outputs": []
    },
    {
      "cell_type": "code",
      "source": [
        "result_RF = model_RF.predict(X_test)\n",
        "result_GB = model_GB.predict(X_test)\n",
        "\n",
        "acc_RF = metrics.accuracy_score(result_RF, y_test)\n",
        "acc_GB = metrics.accuracy_score(result_GB, y_test)\n",
        "\n",
        "show_RF = round(acc_RF * 100)\n",
        "show_GB = round(acc_GB * 100)\n",
        "\n",
        "print(\"Random Forest {}%\".format(show_RF))\n",
        "print(\"Gradiente Boosting {}%\".format(show_GB))"
      ],
      "metadata": {
        "id": "hCbVL0EaMwjx"
      },
      "execution_count": null,
      "outputs": []
    }
  ]
}