{
  "nbformat": 4,
  "nbformat_minor": 0,
  "metadata": {
    "colab": {
      "provenance": [],
      "include_colab_link": true
    },
    "kernelspec": {
      "name": "python3",
      "display_name": "Python 3"
    },
    "language_info": {
      "name": "python"
    }
  },
  "cells": [
    {
      "cell_type": "markdown",
      "metadata": {
        "id": "view-in-github",
        "colab_type": "text"
      },
      "source": [
        "<a href=\"https://colab.research.google.com/github/tmoura/machinelearning/blob/master/11_exerc%C3%ADcios_MLP.ipynb\" target=\"_parent\"><img src=\"https://colab.research.google.com/assets/colab-badge.svg\" alt=\"Open In Colab\"/></a>"
      ]
    },
    {
      "cell_type": "code",
      "source": [
        "## Exercício 1 - Dataset Parkinsons\n",
        "\n",
        "# 1- Carregar a base de dados Parkinsons\n",
        "url = \"https://raw.githubusercontent.com/tmoura/machinelearning/master/parkinsons.data\"\n",
        "\n",
        "import pandas as pd\n",
        "from sklearn.model_selection import train_test_split\n",
        "from sklearn.neural_network import MLPClassifier\n",
        "from sklearn import metrics\n",
        "\n",
        "# 2- Normalizar todas as colunas (normalizar é deixar todos os valores das colunas entre 0 e 1)\n",
        "# 3- Separar o dataset em X (matriz de features) e y (coluna target)\n",
        "# 4- Gerar as bases de treinamento e teste\n",
        "# 5- Importar o modelo MLP do sklearn\n",
        "# 6- Importar o modelo DecisionTree do sklearn\n",
        "# 7- Importar o modelo KNN do sklearn\n",
        "# 8- Instanciar o modelo escolhendo uma topologia para a rede, função de ativação e número de épocas de execução até que obtenha uma taxa de acerto estável\n",
        "# 9- Treinar os modelos com os dados de treinamento\n",
        "# 10 - Usar validação cruzada para todos os modelos\n",
        "# 11- Fazer o predict com os dados de teste\n",
        "# 12- Imprimir o percentual de acerto da base de teste"
      ],
      "metadata": {
        "id": "hyCc4Y7XILd0"
      },
      "execution_count": null,
      "outputs": []
    },
    {
      "cell_type": "code",
      "source": [
        "## Exercício 2 - Dataset Phoneme\n",
        "\n",
        "# 1- Carregar a base \"phoneme\"\n",
        "url = \"https://raw.githubusercontent.com/tmoura/machinelearning/master/phoneme.data\"\n",
        "\n",
        "# 2- Normalizar todas as colunas (normalizar é deixar todos os valores das colunas entre 0 e 1)\n",
        "# 3- Separar o dataset em X (matriz de features) e y (coluna target)\n",
        "# 4- Gerar as bases de treinamento e teste\n",
        "# 5- Importar o modelo MLP do sklearn\n",
        "# 6- Importar o modelo DecisionTree do sklearn\n",
        "# 7- Importar o modelo KNN do sklearn\n",
        "# 8- Instanciar o modelo escolhendo uma topologia para a rede, função de ativação e número de épocas de execução até que obtenha uma taxa de acerto estável\n",
        "# 9- Treinar os modelos com os dados de treinamento\n",
        "# 10 - Usar validação cruzada para todos os modelos\n",
        "# 11- Fazer o predict com os dados de teste"
      ],
      "metadata": {
        "id": "-w3Yk186ViXm"
      },
      "execution_count": null,
      "outputs": []
    }
  ]
}